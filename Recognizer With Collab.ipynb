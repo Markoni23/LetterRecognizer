{
 "cells": [
  {
   "cell_type": "code",
   "execution_count": null,
   "metadata": {},
   "outputs": [],
   "source": [
    "import os\n",
    "DATADIR = \"/Users/markoni/Desktop/try_letters/(letters)\"\n",
    "\n",
    "TESTDIR = \"/Users/markoni/Desktop/try_letters/TEST_DATA\"\n",
    "pref='_low'\n",
    "for letter in os.listdir(DATADIR):\n",
    "    os.rename(os.path.join(DATADIR,letter), os.path.join(DATADIR,letter+pref))\n",
    "    \n",
    "       \n",
    "        \n",
    "            "
   ]
  },
  {
   "cell_type": "code",
   "execution_count": null,
   "metadata": {},
   "outputs": [],
   "source": [
    "import os\n",
    "\n",
    "for dr in os.listdir(DATADIR):\n",
    "    if dr[0]!='.':\n",
    "        path = os.path.join(DATADIR,dr)\n",
    "        testpath = os.path.join(TESTDIR,dr)\n",
    "        if not os.path.exists(os.path.join(TESTDIR,dr)):\n",
    "            os.makedirs(os.path.join(TESTDIR,dr))\n",
    "        for img in os.listdir(path):\n",
    "            if int(img[-6:-4])==0:\n",
    "                os.rename(os.path.join(path,img), os.path.join(testpath,img))\n"
   ]
  },
  {
   "cell_type": "code",
   "execution_count": null,
   "metadata": {},
   "outputs": [],
   "source": [
    "from tqdm import tqdm"
   ]
  },
  {
   "cell_type": "code",
   "execution_count": null,
   "metadata": {},
   "outputs": [],
   "source": [
    "import os\n",
    "import cv2\n",
    "\n",
    "\n",
    "training_data = [] \n",
    "\n",
    "def create_training_data():\n",
    "    for category in CATEGORIES:  \n",
    "\n",
    "        path = os.path.join(DATADIR,category)  \n",
    "        class_num = CATEGORIES.index(category)  \n",
    "\n",
    "        for img in tqdm(os.listdir(path)):  \n",
    "            try:\n",
    "                img_array = cv2.imread(os.path.join(path,img) ,cv2.IMREAD_GRAYSCALE) \n",
    "                new_array = cv2.resize(img_array, (70, 70))\n",
    "                training_data.append([new_array, class_num])  \n",
    "            except Exception as e:  \n",
    "                print('error')\n",
    "                pass\n",
    "           \n",
    "\n",
    "        \n",
    "CATEGORIES=[]\n",
    "for letter in os.listdir(DATADIR):\n",
    "    if letter[0]!='.':\n",
    "        CATEGORIES.append(letter)\n",
    "        \n",
    "create_training_data()"
   ]
  },
  {
   "cell_type": "code",
   "execution_count": null,
   "metadata": {},
   "outputs": [],
   "source": [
    "DATAPICKLETEST = \"/Users/markoni/Desktop/try_letters/INPUTS-TEST.pickle\"\n",
    "LABELSPICKLETEST = \"/Users/markoni/Desktop/try_letters/LABELS-TEST.pickle\""
   ]
  },
  {
   "cell_type": "code",
   "execution_count": null,
   "metadata": {},
   "outputs": [],
   "source": [
    "import random\n",
    "\n",
    "random.shuffle(training_data)\n",
    "\n",
    "inputs = []\n",
    "labels = []\n",
    "\n",
    "for inp,label in training_data:\n",
    "    inputs.append(inp)\n",
    "    labels.append(label)\n",
    "    \n",
    "    \n",
    "import pickle\n",
    "\n",
    "pickle_out = open(DATAPICKLETEST,\"wb\")\n",
    "pickle.dump(inputs, pickle_out)\n",
    "pickle_out.close()\n",
    "\n",
    "pickle_out = open(LABELSPICKLETEST,\"wb\")\n",
    "pickle.dump(labels, pickle_out)\n",
    "pickle_out.close()"
   ]
  },
  {
   "cell_type": "code",
   "execution_count": null,
   "metadata": {},
   "outputs": [],
   "source": [
    "import tensorflow as tf\n",
    "import numpy\n",
    "from tensorflow.keras.datasets import cifar10\n",
    "from tensorflow.keras.preprocessing.image import ImageDataGenerator\n",
    "from tensorflow.keras.models import Sequential\n",
    "from tensorflow.keras.layers import Dense, Dropout, Activation, Flatten\n",
    "from tensorflow.keras.layers import Conv2D, MaxPooling2D\n",
    "from keras.utils import np_utils"
   ]
  },
  {
   "cell_type": "code",
   "execution_count": null,
   "metadata": {},
   "outputs": [],
   "source": [
    "pickle_in = open(\"/content/drive/LetsDoThis/INPUTS.pickle\",\"rb\")\n",
    "X = pickle.load(pickle_in)\n",
    "X = numpy.array(X).reshape(-1, 70, 70, 1)\n",
    "X = (1-X/255)\n",
    "pickle_in = open(\"/content/drive/LetsDoThis/LABELS.pickle\",\"rb\")\n",
    "y = pickle.load(pickle_in)"
   ]
  },
  {
   "cell_type": "code",
   "execution_count": null,
   "metadata": {},
   "outputs": [],
   "source": [
    "y=np_utils.to_categorical(y)\n",
    "model = Sequential()\n",
    "\n",
    "model.add(Conv2D(32, (3, 3), input_shape=X.shape[1:]))\n",
    "model.add(Activation('relu'))\n",
    "model.add(MaxPooling2D(pool_size=(2, 2)))\n",
    "\n",
    "model.add(Conv2D(32, (3, 3)))\n",
    "model.add(Activation('relu'))\n",
    "model.add(MaxPooling2D(pool_size=(2, 2)))\n",
    "\n",
    "model.add(Flatten())  \n",
    "model.add(Dense(128))\n",
    "\n",
    "model.add(Dense(61))\n",
    "model.add(Activation('sigmoid'))\n",
    "\n",
    "model.compile(loss='binary_crossentropy',\n",
    "              optimizer='adam',\n",
    "              metrics=['accuracy'])\n",
    "\n",
    "model.fit(X, y, batch_size=32, validation_split=0.1)"
   ]
  },
  {
   "cell_type": "code",
   "execution_count": null,
   "metadata": {},
   "outputs": [],
   "source": [
    "model.save('/content/drive/LetsDoThis/cap_let_reader.model')\n",
    "MODEL = '/content/drive/LetsDoThis/cap_let_reader.model'"
   ]
  },
  {
   "cell_type": "code",
   "execution_count": null,
   "metadata": {},
   "outputs": [],
   "source": [
    "import tensorflow as tf\n",
    "\n",
    "new_model = tf.keras.models.load_model(MODEL)\n",
    "\n",
    "pickle_in = open(INPUTS_TEST,\"rb\")\n",
    "XT = pickle.load(pickle_in)\n",
    "XT = numpy.array(XT).reshape(-1, 70, 70, 1)\n",
    "pickle_in = open(LABELS_TEST,\"rb\")\n",
    "yT = pickle.load(pickle_in)\n",
    "\n",
    "XT = (1.0 - XT/255.0)\n",
    "yT=tf.keras.utils.to_categorical(yT)\n",
    "\n",
    "predictions = new_model.predict(XT)\n"
   ]
  },
  {
   "cell_type": "code",
   "execution_count": null,
   "metadata": {},
   "outputs": [],
   "source": [
    "import numpy as np\n",
    "errs = []\n",
    "for i in range(len(yT)):\n",
    "    if np.argmax(yT[i])!=np.argmax(predictions[i]):\n",
    "        errs.append(i)"
   ]
  }
 ],
 "metadata": {
  "kernelspec": {
   "display_name": "Python 3",
   "language": "python",
   "name": "python3"
  },
  "language_info": {
   "codemirror_mode": {
    "name": "ipython",
    "version": 3
   },
   "file_extension": ".py",
   "mimetype": "text/x-python",
   "name": "python",
   "nbconvert_exporter": "python",
   "pygments_lexer": "ipython3",
   "version": "3.6.5"
  }
 },
 "nbformat": 4,
 "nbformat_minor": 2
}
